{
 "cells": [
  {
   "cell_type": "code",
   "execution_count": 1,
   "id": "371e3046",
   "metadata": {},
   "outputs": [
    {
     "data": {
      "text/html": [
       "<div>\n",
       "<style scoped>\n",
       "    .dataframe tbody tr th:only-of-type {\n",
       "        vertical-align: middle;\n",
       "    }\n",
       "\n",
       "    .dataframe tbody tr th {\n",
       "        vertical-align: top;\n",
       "    }\n",
       "\n",
       "    .dataframe thead th {\n",
       "        text-align: right;\n",
       "    }\n",
       "</style>\n",
       "<table border=\"1\" class=\"dataframe\">\n",
       "  <thead>\n",
       "    <tr style=\"text-align: right;\">\n",
       "      <th></th>\n",
       "      <th>customer_id</th>\n",
       "      <th>name</th>\n",
       "      <th>email</th>\n",
       "      <th>phone</th>\n",
       "      <th>address</th>\n",
       "      <th>registration_date</th>\n",
       "      <th>loyalty_status</th>\n",
       "    </tr>\n",
       "  </thead>\n",
       "  <tbody>\n",
       "    <tr>\n",
       "      <th>0</th>\n",
       "      <td>1</td>\n",
       "      <td>Michelle Kidd</td>\n",
       "      <td>vayala@example.net</td>\n",
       "      <td>NaN</td>\n",
       "      <td>USNS Santiago, FPO AE 80872</td>\n",
       "      <td>2025-01-25</td>\n",
       "      <td>Gold</td>\n",
       "    </tr>\n",
       "    <tr>\n",
       "      <th>1</th>\n",
       "      <td>2</td>\n",
       "      <td>Brad Newton</td>\n",
       "      <td>taylorcatherine@example.net</td>\n",
       "      <td>(759)518-8536x738</td>\n",
       "      <td>38783 Oliver Street, West Kristenborough, MT 9...</td>\n",
       "      <td>2023-07-13</td>\n",
       "      <td>Silver</td>\n",
       "    </tr>\n",
       "    <tr>\n",
       "      <th>2</th>\n",
       "      <td>3</td>\n",
       "      <td>Larry Torres</td>\n",
       "      <td>dsanchez@example.net</td>\n",
       "      <td>001-323-525-3094x96062</td>\n",
       "      <td>6845 Steele Turnpike, West Erikabury, UT 37487</td>\n",
       "      <td>2023-08-18</td>\n",
       "      <td>Bronze</td>\n",
       "    </tr>\n",
       "    <tr>\n",
       "      <th>3</th>\n",
       "      <td>4</td>\n",
       "      <td>Kimberly Price</td>\n",
       "      <td>jessicaknight@example.com</td>\n",
       "      <td>001-947-633-4224x07930</td>\n",
       "      <td>1631 Alexis Meadows, Lake Amanda, CA 75179</td>\n",
       "      <td>2024-12-08</td>\n",
       "      <td>Gold</td>\n",
       "    </tr>\n",
       "    <tr>\n",
       "      <th>4</th>\n",
       "      <td>5</td>\n",
       "      <td>Matthew Phillips</td>\n",
       "      <td>qwilliams@example.com</td>\n",
       "      <td>001-869-650-5682x8385</td>\n",
       "      <td>2274 Williams Heights Suite 895, Andersonhaven...</td>\n",
       "      <td>2024-02-03</td>\n",
       "      <td>Gold</td>\n",
       "    </tr>\n",
       "  </tbody>\n",
       "</table>\n",
       "</div>"
      ],
      "text/plain": [
       "   customer_id              name                        email  \\\n",
       "0            1     Michelle Kidd           vayala@example.net   \n",
       "1            2       Brad Newton  taylorcatherine@example.net   \n",
       "2            3      Larry Torres         dsanchez@example.net   \n",
       "3            4    Kimberly Price    jessicaknight@example.com   \n",
       "4            5  Matthew Phillips        qwilliams@example.com   \n",
       "\n",
       "                    phone                                            address  \\\n",
       "0                     NaN                        USNS Santiago, FPO AE 80872   \n",
       "1       (759)518-8536x738  38783 Oliver Street, West Kristenborough, MT 9...   \n",
       "2  001-323-525-3094x96062     6845 Steele Turnpike, West Erikabury, UT 37487   \n",
       "3  001-947-633-4224x07930         1631 Alexis Meadows, Lake Amanda, CA 75179   \n",
       "4   001-869-650-5682x8385  2274 Williams Heights Suite 895, Andersonhaven...   \n",
       "\n",
       "  registration_date loyalty_status  \n",
       "0        2025-01-25           Gold  \n",
       "1        2023-07-13         Silver  \n",
       "2        2023-08-18         Bronze  \n",
       "3        2024-12-08           Gold  \n",
       "4        2024-02-03           Gold  "
      ]
     },
     "execution_count": 1,
     "metadata": {},
     "output_type": "execute_result"
    }
   ],
   "source": [
    "import pandas as pd\n",
    "file_path=pd.read_csv(r\"C:\\Users\\Rohini\\Downloads\\us_customer_data.csv\")\n",
    "file_path.head()"
   ]
  },
  {
   "cell_type": "code",
   "execution_count": 2,
   "id": "3f4422c3",
   "metadata": {},
   "outputs": [
    {
     "data": {
      "text/plain": [
       "customer_id           0\n",
       "name                  0\n",
       "email                50\n",
       "phone                50\n",
       "address               0\n",
       "registration_date     0\n",
       "loyalty_status        0\n",
       "dtype: int64"
      ]
     },
     "execution_count": 2,
     "metadata": {},
     "output_type": "execute_result"
    }
   ],
   "source": [
    "file_path.isna().sum()"
   ]
  },
  {
   "cell_type": "code",
   "execution_count": 3,
   "id": "0ab53fe3",
   "metadata": {},
   "outputs": [],
   "source": [
    "file_path['email']=file_path['email'].fillna(file_path['name'].str.replace(' ','').str.lower()+'@unknown.com')\n",
    "     "
   ]
  },
  {
   "cell_type": "code",
   "execution_count": 4,
   "id": "faf043cb",
   "metadata": {},
   "outputs": [
    {
     "data": {
      "text/plain": [
       "customer_id           0\n",
       "name                  0\n",
       "email                 0\n",
       "phone                50\n",
       "address               0\n",
       "registration_date     0\n",
       "loyalty_status        0\n",
       "dtype: int64"
      ]
     },
     "execution_count": 4,
     "metadata": {},
     "output_type": "execute_result"
    }
   ],
   "source": [
    "file_path.isna().sum()"
   ]
  },
  {
   "cell_type": "code",
   "execution_count": 5,
   "id": "059ed957",
   "metadata": {},
   "outputs": [
    {
     "data": {
      "text/plain": [
       "customer_id                                                        28\n",
       "name                                                     Brandon Hall\n",
       "email                                         brandonhall@unknown.com\n",
       "phone                                                    858-252-9573\n",
       "address              8143 Robert Cove Apt. 103, Sanchezport, CO 78231\n",
       "registration_date                                          2024-04-07\n",
       "loyalty_status                                                   Gold\n",
       "Name: 27, dtype: object"
      ]
     },
     "execution_count": 5,
     "metadata": {},
     "output_type": "execute_result"
    }
   ],
   "source": [
    "file_path.loc[27]"
   ]
  },
  {
   "cell_type": "code",
   "execution_count": 6,
   "id": "a3b9b26e",
   "metadata": {},
   "outputs": [
    {
     "data": {
      "text/plain": [
       "customer_id                                                        445\n",
       "name                                                      Mallory Mann\n",
       "email                                            charles11@example.net\n",
       "phone                                                       8698124023\n",
       "address              14758 Bautista Fords Apt. 251, Sandrachester, ...\n",
       "registration_date                                           2024-10-23\n",
       "loyalty_status                                                    Gold\n",
       "Name: 444, dtype: object"
      ]
     },
     "execution_count": 6,
     "metadata": {},
     "output_type": "execute_result"
    }
   ],
   "source": [
    "file_path['phone']=file_path['phone'].fillna('xxx-xxx-xxxx')\n",
    "file_path['phone']=file_path['phone'].str.replace('-','')\n",
    "file_path.loc[file_path['phone'].str.len()<10,'phone']='xxxxxxxxx'\n",
    "file_path.head(2)\n",
    "file_path.loc[444]"
   ]
  },
  {
   "cell_type": "code",
   "execution_count": 7,
   "id": "82db9071",
   "metadata": {},
   "outputs": [
    {
     "data": {
      "text/plain": [
       "customer_id                                                        445\n",
       "name                                                      Mallory Mann\n",
       "email                                            charles11@example.net\n",
       "phone                                                       8698124023\n",
       "address              14758 Bautista Fords Apt. 251, Sandrachester, ...\n",
       "registration_date                                           2024-10-23\n",
       "loyalty_status                                                    Gold\n",
       "Name: 444, dtype: object"
      ]
     },
     "execution_count": 7,
     "metadata": {},
     "output_type": "execute_result"
    }
   ],
   "source": [
    "file_path['phone']=file_path['phone'].str.replace(r'\\D','',regex=True)\n",
    "file_path['phone']=file_path['phone'].str.slice(0,11)\n",
    "file_path.loc[444]"
   ]
  },
  {
   "cell_type": "code",
   "execution_count": 8,
   "id": "2c90cca1",
   "metadata": {},
   "outputs": [
    {
     "data": {
      "text/plain": [
       "customer_id          0\n",
       "name                 0\n",
       "email                0\n",
       "phone                0\n",
       "address              0\n",
       "registration_date    0\n",
       "loyalty_status       0\n",
       "dtype: int64"
      ]
     },
     "execution_count": 8,
     "metadata": {},
     "output_type": "execute_result"
    }
   ],
   "source": [
    "file_path.isna().sum()"
   ]
  },
  {
   "cell_type": "code",
   "execution_count": 9,
   "id": "0659f118",
   "metadata": {},
   "outputs": [],
   "source": [
    "\n",
    "file_path.to_csv('clean1.csv',index=False)"
   ]
  },
  {
   "cell_type": "code",
   "execution_count": 11,
   "id": "b5737cc4",
   "metadata": {},
   "outputs": [],
   "source": [
    "#2\n",
    "import pandas as pd\n",
    "\n",
    "df=pd.read_csv(r\"C:\\Users\\Rohini\\Downloads\\us_customer_data.csv\")\n",
    "\n"
   ]
  },
  {
   "cell_type": "code",
   "execution_count": 12,
   "id": "46e89ec2",
   "metadata": {},
   "outputs": [
    {
     "data": {
      "text/plain": [
       "customer_id           0\n",
       "name                  0\n",
       "email                50\n",
       "phone                50\n",
       "address               0\n",
       "registration_date     0\n",
       "loyalty_status        0\n",
       "dtype: int64"
      ]
     },
     "execution_count": 12,
     "metadata": {},
     "output_type": "execute_result"
    }
   ],
   "source": [
    "df.isnull().sum()"
   ]
  },
  {
   "cell_type": "code",
   "execution_count": 13,
   "id": "75a05a2f",
   "metadata": {},
   "outputs": [],
   "source": [
    "df = df.drop_duplicates(subset='customer_id', keep='first')"
   ]
  },
  {
   "cell_type": "code",
   "execution_count": 14,
   "id": "24d6390f",
   "metadata": {},
   "outputs": [],
   "source": [
    "df['name'] = df['name'].str.strip().str.title()"
   ]
  },
  {
   "cell_type": "code",
   "execution_count": 15,
   "id": "4aa6aaea",
   "metadata": {},
   "outputs": [],
   "source": [
    "df['email'] = df.apply(\n",
    "    lambda row: f\"{row['name'].replace(' ', '').lower()}@company.com\"\n",
    "    if pd.isna(row['email']) else row['email'].strip().lower(),\n",
    "    axis=1\n",
    ")"
   ]
  },
  {
   "cell_type": "code",
   "execution_count": 16,
   "id": "e3ba49d1",
   "metadata": {},
   "outputs": [
    {
     "data": {
      "text/plain": [
       "customer_id           0\n",
       "name                  0\n",
       "email                 0\n",
       "phone                50\n",
       "address               0\n",
       "registration_date     0\n",
       "loyalty_status        0\n",
       "dtype: int64"
      ]
     },
     "execution_count": 16,
     "metadata": {},
     "output_type": "execute_result"
    }
   ],
   "source": [
    "df.isnull().sum()"
   ]
  },
  {
   "cell_type": "code",
   "execution_count": 17,
   "id": "14bffa69",
   "metadata": {},
   "outputs": [],
   "source": [
    "df['phone'] = df['phone'].fillna('0000000000')  # Fill true nulls\n",
    "df['phone'] = df['phone'].astype(str).str.replace(r'\\D', '', regex=True)"
   ]
  },
  {
   "cell_type": "code",
   "execution_count": 18,
   "id": "32a995d8",
   "metadata": {},
   "outputs": [],
   "source": [
    "df['phone'] = df['phone'].apply(\n",
    "    lambda x: f\"+1-{x[:3]}-{x[3:6]}-{x[6:10]}\" if len(x) == 10 else \"+1-000-000-0000\"\n",
    ")"
   ]
  },
  {
   "cell_type": "code",
   "execution_count": 19,
   "id": "c5a286ae",
   "metadata": {},
   "outputs": [
    {
     "data": {
      "text/html": [
       "<div>\n",
       "<style scoped>\n",
       "    .dataframe tbody tr th:only-of-type {\n",
       "        vertical-align: middle;\n",
       "    }\n",
       "\n",
       "    .dataframe tbody tr th {\n",
       "        vertical-align: top;\n",
       "    }\n",
       "\n",
       "    .dataframe thead th {\n",
       "        text-align: right;\n",
       "    }\n",
       "</style>\n",
       "<table border=\"1\" class=\"dataframe\">\n",
       "  <thead>\n",
       "    <tr style=\"text-align: right;\">\n",
       "      <th></th>\n",
       "      <th>name</th>\n",
       "      <th>email</th>\n",
       "      <th>phone</th>\n",
       "    </tr>\n",
       "  </thead>\n",
       "  <tbody>\n",
       "    <tr>\n",
       "      <th>0</th>\n",
       "      <td>Michelle Kidd</td>\n",
       "      <td>vayala@example.net</td>\n",
       "      <td>+1-000-000-0000</td>\n",
       "    </tr>\n",
       "    <tr>\n",
       "      <th>1</th>\n",
       "      <td>Brad Newton</td>\n",
       "      <td>taylorcatherine@example.net</td>\n",
       "      <td>+1-000-000-0000</td>\n",
       "    </tr>\n",
       "    <tr>\n",
       "      <th>2</th>\n",
       "      <td>Larry Torres</td>\n",
       "      <td>dsanchez@example.net</td>\n",
       "      <td>+1-000-000-0000</td>\n",
       "    </tr>\n",
       "    <tr>\n",
       "      <th>3</th>\n",
       "      <td>Kimberly Price</td>\n",
       "      <td>jessicaknight@example.com</td>\n",
       "      <td>+1-000-000-0000</td>\n",
       "    </tr>\n",
       "    <tr>\n",
       "      <th>4</th>\n",
       "      <td>Matthew Phillips</td>\n",
       "      <td>qwilliams@example.com</td>\n",
       "      <td>+1-000-000-0000</td>\n",
       "    </tr>\n",
       "  </tbody>\n",
       "</table>\n",
       "</div>"
      ],
      "text/plain": [
       "               name                        email            phone\n",
       "0     Michelle Kidd           vayala@example.net  +1-000-000-0000\n",
       "1       Brad Newton  taylorcatherine@example.net  +1-000-000-0000\n",
       "2      Larry Torres         dsanchez@example.net  +1-000-000-0000\n",
       "3    Kimberly Price    jessicaknight@example.com  +1-000-000-0000\n",
       "4  Matthew Phillips        qwilliams@example.com  +1-000-000-0000"
      ]
     },
     "execution_count": 19,
     "metadata": {},
     "output_type": "execute_result"
    }
   ],
   "source": [
    "df[['name', 'email', 'phone']].head()"
   ]
  },
  {
   "cell_type": "code",
   "execution_count": 20,
   "id": "443b2971",
   "metadata": {},
   "outputs": [
    {
     "data": {
      "text/plain": [
       "customer_id          0\n",
       "name                 0\n",
       "email                0\n",
       "phone                0\n",
       "address              0\n",
       "registration_date    0\n",
       "loyalty_status       0\n",
       "dtype: int64"
      ]
     },
     "execution_count": 20,
     "metadata": {},
     "output_type": "execute_result"
    }
   ],
   "source": [
    "df.isnull().sum()"
   ]
  },
  {
   "cell_type": "code",
   "execution_count": 21,
   "id": "5622c78c",
   "metadata": {},
   "outputs": [],
   "source": [
    "df.to_csv(\"clean2.csv\", index=False)"
   ]
  }
 ],
 "metadata": {
  "kernelspec": {
   "display_name": "venv",
   "language": "python",
   "name": "python3"
  },
  "language_info": {
   "codemirror_mode": {
    "name": "ipython",
    "version": 3
   },
   "file_extension": ".py",
   "mimetype": "text/x-python",
   "name": "python",
   "nbconvert_exporter": "python",
   "pygments_lexer": "ipython3",
   "version": "3.10.6"
  }
 },
 "nbformat": 4,
 "nbformat_minor": 5
}
